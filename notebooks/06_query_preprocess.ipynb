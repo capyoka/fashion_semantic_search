{
 "cells": [
  {
   "cell_type": "code",
   "execution_count": 2,
   "id": "bb87bb1a",
   "metadata": {},
   "outputs": [],
   "source": [
    "import pandas as pd"
   ]
  },
  {
   "cell_type": "code",
   "execution_count": 3,
   "id": "36a1d6bb",
   "metadata": {},
   "outputs": [],
   "source": [
    "# カテゴリ別の想定ユーザ質問（英語）\n",
    "queries_by_category = {\n",
    "    \"Intent\": [\n",
    "        \"I need an outfit to wear for a job interview\",\n",
    "        \"Looking for something elegant to wear to a dinner party\",\n",
    "        \"Need comfortable clothes for daily commuting\",\n",
    "        \"I want an outfit that looks good for travel photos\"\n",
    "    ],\n",
    "    \"Feature\": [\n",
    "        \"Show me black lace dresses with long sleeves\",\n",
    "        \"Looking for sunglasses with blue lenses and metal frames\",\n",
    "        \"Dresses with pockets and a belt\",\n",
    "        \"Rhinestone mesh masks in multicolor\"\n",
    "    ],\n",
    "    \"Seasonal\": [\n",
    "        \"Outfits suitable for humid summer weather\",\n",
    "        \"Need a warm coat for winter evenings\",\n",
    "        \"Lightweight dresses for spring picnics\",\n",
    "        \"Clothes that dry quickly during the rainy season\"\n",
    "    ],\n",
    "    \"Occasion\": [\n",
    "        \"Halloween accessories for women\",\n",
    "        \"What should I wear for a beach wedding?\",\n",
    "        \"Party dresses for New Year’s Eve\",\n",
    "        \"Casual outfits for a weekend picnic\"\n",
    "    ],\n",
    "    \"Style\": [\n",
    "        \"Show me vintage-inspired sunglasses\",\n",
    "        \"Looking for glamorous feather headpieces\",\n",
    "        \"Need minimalist modern outfits in neutral colors\",\n",
    "        \"Bohemian-style dresses for summer festivals\"\n",
    "    ],\n",
    "    \"Brand\": [\n",
    "        \"GRACE KARIN dresses for formal occasions\",\n",
    "        \"Porsche Design sunglasses for women\",\n",
    "        \"MORGENLICHT anime hoodies for fans\",\n",
    "        \"Show me products from the SATINIOR store\"\n",
    "    ],\n",
    "    \"Fuzzy\": [\n",
    "        \"Something cute and sparkly\",\n",
    "        \"I want a stylish outfit for summer vibes\",\n",
    "        \"Looking for something shiny but elegant\",\n",
    "        \"Show me clothes that feel light and happy\"\n",
    "    ]\n",
    "}\n",
    "\n",
    "# フラットな一覧（id付き）が欲しい場合\n",
    "queries_flat = [\n",
    "    {\"id\": i+1, \"text\": q, \"category\": cat}\n",
    "    for cat, qs in queries_by_category.items()\n",
    "    for i, q in enumerate(qs)\n",
    "]\n"
   ]
  },
  {
   "cell_type": "code",
   "execution_count": null,
   "id": "8eb799ca",
   "metadata": {},
   "outputs": [],
   "source": []
  }
 ],
 "metadata": {
  "kernelspec": {
   "display_name": "oai",
   "language": "python",
   "name": "python3"
  },
  "language_info": {
   "codemirror_mode": {
    "name": "ipython",
    "version": 3
   },
   "file_extension": ".py",
   "mimetype": "text/x-python",
   "name": "python",
   "nbconvert_exporter": "python",
   "pygments_lexer": "ipython3",
   "version": "3.13.7"
  }
 },
 "nbformat": 4,
 "nbformat_minor": 5
}
