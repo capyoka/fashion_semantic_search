{
 "cells": [
  {
   "cell_type": "markdown",
   "id": "62e061ba",
   "metadata": {},
   "source": [
    "# 00_preprocess_from_csv.ipynb\n",
    "This notebook **shows the process** while using the modular pipeline."
   ]
  },
  {
   "cell_type": "code",
   "execution_count": null,
   "id": "025be3f1",
   "metadata": {},
   "outputs": [],
   "source": [
    "import os\n",
    "os.chdir('/mnt/data/rag_app'); print('CWD:', os.getcwd())"
   ]
  },
  {
   "cell_type": "markdown",
   "id": "21a31402",
   "metadata": {},
   "source": [
    "## 1) Load & preview raw CSV"
   ]
  },
  {
   "cell_type": "code",
   "execution_count": null,
   "id": "73148fd4",
   "metadata": {},
   "outputs": [],
   "source": [
    "import pandas as pd, os\n",
    "p='data/raw/products.csv'\n",
    "if not os.path.exists(p):\n",
    "    pd.DataFrame([{'title':'夏のビーチに合う軽量ワンピース','description':'涼しい素材で乾きやすい。','features':'軽量;速乾;花柄'}]).to_csv(p, index=False)\n",
    "\n",
    "df=pd.read_csv(p).fillna(''); df.head()"
   ]
  },
  {
   "cell_type": "markdown",
   "id": "b5d497bd",
   "metadata": {},
   "source": [
    "## 2) Run pipeline"
   ]
  },
  {
   "cell_type": "code",
   "execution_count": null,
   "id": "a3f5ebae",
   "metadata": {},
   "outputs": [],
   "source": [
    "from app.pipelines.preprocess_from_csv import run_from_csv\n",
    "from app.core.config import settings\n",
    "run_from_csv('data/raw/products.csv', settings.PROCESSED_JSONL, settings.QDRANT_PATH, use_image_caption=False)"
   ]
  },
  {
   "cell_type": "markdown",
   "id": "2e452ff3",
   "metadata": {},
   "source": [
    "## 3) Inspect processed JSONL"
   ]
  },
  {
   "cell_type": "code",
   "execution_count": null,
   "id": "8323c867",
   "metadata": {},
   "outputs": [],
   "source": [
    "import json, itertools\n",
    "from itertools import islice\n",
    "print('->', settings.PROCESSED_JSONL)\n",
    "with open(settings.PROCESSED_JSONL, 'r', encoding='utf-8') as f:\n",
    "    for line in islice(f, 3):\n",
    "        print(json.loads(line))"
   ]
  }
 ],
 "metadata": {},
 "nbformat": 4,
 "nbformat_minor": 5
}
