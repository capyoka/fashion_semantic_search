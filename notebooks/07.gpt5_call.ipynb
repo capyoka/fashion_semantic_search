{
 "cells": [
  {
   "cell_type": "code",
   "execution_count": 1,
   "id": "e1c1b224",
   "metadata": {},
   "outputs": [],
   "source": [
    "from openai import OpenAI\n",
    "from dotenv import load_dotenv\n",
    "import os\n",
    "load_dotenv()\n",
    "\n",
    "OPENAI_API_KEY = os.getenv(\"OPENAI_API_KEY\", \"\")\n",
    "client = OpenAI(api_key=OPENAI_API_KEY)"
   ]
  },
  {
   "cell_type": "code",
   "execution_count": 5,
   "id": "482b9737",
   "metadata": {},
   "outputs": [
    {
     "name": "stdout",
     "output_type": "stream",
     "text": [
      "{\n",
      "  \"startups\": [\n",
      "    {\n",
      "      \"name\": \"Syky\",\n",
      "      \"focus\": \"Digital fashion and Web3 marketplace for virtual garments and emerging designers\",\n",
      "      \"founded\": 2022,\n",
      "      \"hq\": \"New York, USA\"\n",
      "    },\n",
      "    {\n",
      "      \"name\": \"Bold Metrics\",\n",
      "      \"focus\": \"AI body measurement and size recommendation to reduce returns and improve fit\",\n",
      "      \"founded\": 2012,\n",
      "      \"hq\": \"San Francisco, USA\"\n",
      "    },\n",
      "    {\n",
      "      \"name\": \"Unspun\",\n",
      "      \"focus\": \"On-demand, 3D-woven custom jeans using body scans and zero-inventory manufacturing\",\n",
      "      \"founded\": 2015,\n",
      "      \"hq\": \"San Francisco, USA\"\n",
      "    }\n",
      "  ]\n",
      "}\n"
     ]
    }
   ],
   "source": [
    "# GPT-5 モデルに問い合わせ（JSONフォーマットで出力）\n",
    "response = client.chat.completions.create(\n",
    "    model=\"gpt-5\",\n",
    "    messages=[\n",
    "        {\"role\": \"system\", \"content\": \"You are a helpful assistant.\"},\n",
    "        {\n",
    "            \"role\": \"user\",\n",
    "            \"content\": \"List 3 innovative fashion tech startups in JSON format.\"\n",
    "        },\n",
    "    ],\n",
    "    response_format={\"type\": \"json_object\"},\n",
    "    reasoning_effort=\"minimal\",\n",
    "    verbosity=\"low\"\n",
    ")\n",
    "\n",
    "# 結果をJSONで出力\n",
    "print(response.choices[0].message.content)"
   ]
  },
  {
   "cell_type": "code",
   "execution_count": null,
   "id": "1ec79d81",
   "metadata": {},
   "outputs": [],
   "source": [
    "# GPT-5 モデルに問い合わせ（JSONフォーマットで出力）\n",
    "response = client.chat.completions.create(\n",
    "    model=\"gpt-5\",\n",
    "    messages=[\n",
    "        {\"role\": \"system\", \"content\": \"You are a helpful assistant.\"},\n",
    "        {\n",
    "            \"role\": \"user\",\n",
    "            \"content\": [\n",
    "                {\"type\": \"text\", \"text\": \"describe this image\"},\n",
    "                {\"type\": \"image_url\", \"image_url\": {\"url\": 'https://m.media-amazon.com/images/I/61PVTixrbsL._AC_.jpg'}},\n",
    "            ],\n",
    "        },\n",
    "    ],\n",
    "    response_format={\"type\": \"json_object\"},\n",
    "    reasoning_effort=\"minimal\",\n",
    "    verbosity=\"low\"\n",
    ")\n",
    "\n",
    "# 結果をJSONで出力\n",
    "print(response.choices[0].message.content)"
   ]
  },
  {
   "cell_type": "code",
   "execution_count": null,
   "id": "08f761a0",
   "metadata": {},
   "outputs": [],
   "source": []
  }
 ],
 "metadata": {
  "kernelspec": {
   "display_name": "oai",
   "language": "python",
   "name": "python3"
  },
  "language_info": {
   "codemirror_mode": {
    "name": "ipython",
    "version": 3
   },
   "file_extension": ".py",
   "mimetype": "text/x-python",
   "name": "python",
   "nbconvert_exporter": "python",
   "pygments_lexer": "ipython3",
   "version": "3.13.7"
  }
 },
 "nbformat": 4,
 "nbformat_minor": 5
}
