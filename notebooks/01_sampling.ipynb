{
 "cells": [
  {
   "cell_type": "code",
   "execution_count": 1,
   "id": "02b890f7",
   "metadata": {},
   "outputs": [
    {
     "name": "stdout",
     "output_type": "stream",
     "text": [
      "826108\n"
     ]
    }
   ],
   "source": [
    "import json\n",
    "import random\n",
    "\n",
    "with open(\"../data/raw/meta_Amazon_Fashion.jsonl\", encoding='utf-8') as f:\n",
    "    data = [json.loads(line) for line in f]\n",
    "print(len(data))"
   ]
  },
  {
   "cell_type": "code",
   "execution_count": null,
   "id": "0a2975ee",
   "metadata": {},
   "outputs": [],
   "source": [
    "SAMPLING_N = 5000\n",
    "sample_data = random.sample(data, min(SAMPLING_N, len(data)))\n",
    "with open(f\"../data/sample/sample_{SAMPLING_N}.json\", \"w\", encoding=\"utf-8\") as f:\n",
    "    json.dump(sample_data, f, ensure_ascii=False, indent=2)"
   ]
  },
  {
   "cell_type": "code",
   "execution_count": null,
   "id": "93b5fa0b",
   "metadata": {},
   "outputs": [],
   "source": []
  }
 ],
 "metadata": {
  "kernelspec": {
   "display_name": "oai",
   "language": "python",
   "name": "python3"
  },
  "language_info": {
   "codemirror_mode": {
    "name": "ipython",
    "version": 3
   },
   "file_extension": ".py",
   "mimetype": "text/x-python",
   "name": "python",
   "nbconvert_exporter": "python",
   "pygments_lexer": "ipython3",
   "version": "3.13.7"
  }
 },
 "nbformat": 4,
 "nbformat_minor": 5
}
